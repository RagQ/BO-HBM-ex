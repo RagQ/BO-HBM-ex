{
 "cells": [
  {
   "cell_type": "markdown",
   "metadata": {},
   "source": [
    "## Home page\n",
    "\n",
    "- provided in BO-HBM-ex\n",
    "- Author: Quentin Ragueneau & Luc Laurent\n",
    "- url: http://github.com/RagQ/BO-HBM-ex.git\n",
    "- License: MIT\n",
    "- this code can be cited using [https://doi.org/10.5281/zenodo.10259290](https://doi.org/10.5281/zenodo.10259290) ([bibTeX](https://zenodo.org/records/10277696/export/bibtex))\n",
    "- Thesis report: [https://theses.fr/2024HESAC014](https://theses.fr/2024HESAC014)\n",
    "- Paper: [10.1007/s00158-024-03747-5](https://dx.doi.org/10.1007/s00158-024-03747-5)\n"
   ]
  },
  {
   "cell_type": "markdown",
   "metadata": {},
   "source": [
    "## Direct access to the notebooks:\n",
    "\n",
    " 1. [Parametric analysis of Duffing oscillator using HBM/AFT methods](respDuffing.ipynb)\n",
    " 2. [Unconstrained parametric optimization using Bayesian Optimization and Gaussian Process](OptiExp.ipynb)"
   ]
  }
 ],
 "metadata": {
  "language_info": {
   "name": "python"
  }
 },
 "nbformat": 4,
 "nbformat_minor": 2
}
