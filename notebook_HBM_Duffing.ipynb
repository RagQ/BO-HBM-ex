{
 "cells": [
  {
   "cell_type": "markdown",
   "metadata": {},
   "source": [
    "# Main execution file\n",
    "\n",
    "- provided in BO-HBM-ex\n",
    "- Author: Quentin Ragueneau & Luc Laurent\n",
    "- url: http://github.com/RagQ/BO-HBM-ex.git\n",
    "- License: MIT\n",
    "- Thesis report: [https://theses.fr/2024HESAC014](https://theses.fr/2024HESAC014)\n",
    "- Paper: [10.1007/s00158-024-03747-5](https://dx.doi.org/10.1007/s00158-024-03747-5)\n"
   ]
  },
  {
   "cell_type": "markdown",
   "metadata": {},
   "source": [
    "# Setup\n",
    "\n",
    " Run `pip install -r requirements.txt` before executing the notebook (required if you run it outside of `binder`)"
   ]
  },
  {
   "cell_type": "markdown",
   "metadata": {},
   "source": [
    "## Information\n",
    "\n",
    "This Python file provides frequency response of Duffing oscillator for differents set of parameters.\n",
    "\n",
    "You can directly access to the [Bayesian Optimization notebook](OptiExp.ipynb).\n"
   ]
  },
  {
   "cell_type": "code",
   "execution_count": null,
   "metadata": {},
   "outputs": [],
   "source": [
    "from typing import Union\n",
    "import fobjDuffing as fobj\n",
    "import matplotlib.pyplot as plt\n",
    "%matplotlib ipympl\n",
    "import numpy\n",
    "import os\n",
    "import ipywidgets as ipw"
   ]
  },
  {
   "cell_type": "code",
   "execution_count": null,
   "metadata": {},
   "outputs": [],
   "source": [
    "plt.rcParams[\"text.usetex\"] = True"
   ]
  },
  {
   "cell_type": "markdown",
   "metadata": {},
   "source": [
    "### Duffing oscillator scheme and equation.\n"
   ]
  },
  {
   "cell_type": "markdown",
   "metadata": {},
   "source": [
    "<img src=\"illus/duffing_scheme.png\" width=\"200\" ><br>\n"
   ]
  },
  {
   "cell_type": "markdown",
   "metadata": {},
   "source": [
    "Non-linear problem solved in frequency domain (along $\\omega$):\n",
    "\n",
    "$m\\ddot{q}(t)+\\xi\\dot{q}(t)+kq(t)+k_{nl}q^3(t)=f_0\\cos(\\omega t)$\n",
    "\n",
    "with $m=1\\,\\mathrm{kg}$ and $k=1\\,\\mathrm{N}\\cdot\\mathrm{s}^{-1}$.\n",
    "\n",
    "_$\\xi$ and $k_{nl}$ are considered as variable parameters in this parametric study._\n"
   ]
  },
  {
   "cell_type": "markdown",
   "metadata": {},
   "source": [
    "Define sets of Duffing oscillator parameters\n"
   ]
  },
  {
   "cell_type": "code",
   "execution_count": null,
   "metadata": {},
   "outputs": [],
   "source": [
    "ResName = \"ParamDuffing\"\n",
    "knl_list = numpy.linspace(0.25, 2, 8)\n",
    "xi_list = numpy.array([0.15, 0.3, 0.5, 1.0])"
   ]
  },
  {
   "cell_type": "code",
   "execution_count": null,
   "metadata": {},
   "outputs": [],
   "source": [
    "if not os.path.exists(ResName):\n",
    "    os.mkdir(ResName)"
   ]
  },
  {
   "cell_type": "code",
   "execution_count": null,
   "metadata": {},
   "outputs": [],
   "source": [
    "data = []"
   ]
  },
  {
   "cell_type": "markdown",
   "metadata": {},
   "source": [
    "### Parametric analysis\n"
   ]
  },
  {
   "cell_type": "code",
   "execution_count": null,
   "metadata": {},
   "outputs": [],
   "source": [
    "for xi in xi_list:\n",
    "    for knl in knl_list:\n",
    "        print(\"=== xi = {} - knl = {} ===\".format(xi, knl))\n",
    "        w, Drms, Arms = fobj.solveDuffing([xi, knl])\n",
    "        data.append((xi, knl, w, Drms, Arms))"
   ]
  },
  {
   "cell_type": "markdown",
   "metadata": {},
   "source": [
    "### Analysis\n"
   ]
  },
  {
   "cell_type": "code",
   "execution_count": null,
   "metadata": {},
   "outputs": [],
   "source": [
    "## Plotting functions\n",
    "def plotting(\n",
    "    w_list: Union[list, numpy.ndarray],\n",
    "    Drms_find: Union[list, numpy.ndarray],\n",
    "    Arms_find: Union[list, numpy.ndarray],\n",
    "    param_select: float,\n",
    "    param_list: list,\n",
    ") -> None:\n",
    "    fig, (ax1, ax2) = plt.subplots(1, 2, layout=\"constrained\")\n",
    "    for w, Drms, Arms, p in zip(w_list, Drms_find, Arms_find, param_list):\n",
    "        ax1.plot(w, Drms, label=r\"${}$\".format(p))\n",
    "        ax2.plot(w, Arms, label=r\"${}$\".format(p))\n",
    "    ax1.set(xlabel=r\"$\\omega\\,[\\mathrm{rad}\\cdot\\mathrm{s}^{-1}]$\")\n",
    "    ax1.set(ylabel=r\"$q_{\\rm RMS}\\,[\\mathrm{m}]$\")\n",
    "    ax1.set(\n",
    "        title=r\"${} = {}\\,[{}]$\".format(\n",
    "            param_select[\"name\"], param_select[\"value\"], param_select[\"unit\"]\n",
    "        )\n",
    "    )\n",
    "    ax1.legend(\n",
    "        loc=\"upper left\", title=f\"$k_{{nl}}\\,[\\mathrm{{N}}\\cdot\\mathrm{{m}}^{{-3}}]$\"\n",
    "    )\n",
    "    ax1.set(xlim=(0, 2.5))\n",
    "    ax1.set(ylim=(0, 2.6))\n",
    "    ax2.set(xlabel=r\"$\\omega\\,[\\mathrm{rad}\\cdot\\mathrm{s}^{-1}]$\")\n",
    "    ax2.set(ylabel=r\"${\\ddot q}_{\\rm RMS}\\,[\\mathrm{m}\\cdot\\mathrm{s}^{-2}]$\")\n",
    "    ax2.set(\n",
    "        title=r\"$\\xi = {}\\,[\\mathrm{{kg}}\\cdot\\mathrm{{s}}^{{-1}}]$\".format(xi_select)\n",
    "    )\n",
    "    ax2.set(xlim=(0, 2.5))\n",
    "    ax2.set(ylim=(0, 2.6))\n",
    "    ax2.legend(\n",
    "        loc=\"upper left\", title=f\"$k_{{nl}}\\,[\\mathrm{{N}}\\cdot\\mathrm{{m}}^{{-3}}]$\"\n",
    "    )\n",
    "\n",
    "\n",
    "class plotting_full:\n",
    "    def __init__(self, data: list = None, xi: float = 0.15, knl: float = 0.25) -> None:\n",
    "        self.fig, (self.ax1, self.ax2) = plt.subplots(\n",
    "            1,\n",
    "            2,\n",
    "            layout=\"constrained\",\n",
    "        )\n",
    "        self.l1 = None\n",
    "        self.l2 = None\n",
    "        self.ax1.set_aspect(\"equal\")\n",
    "        self.ax2.set_aspect(\"equal\")\n",
    "        if data:\n",
    "            self.update(data, xi, knl)\n",
    "\n",
    "    def update(self, data: list, xi: float, knl: float) -> None:\n",
    "        Drms_find = [\n",
    "            content[3] for content in data if content[0] == xi and content[1] == knl\n",
    "        ]\n",
    "        Arms_find = [\n",
    "            content[3] for content in data if content[0] == xi and content[1] == knl\n",
    "        ]\n",
    "        w_list = [\n",
    "            content[2] for content in data if content[0] == xi and content[1] == knl\n",
    "        ]\n",
    "        #\n",
    "        if not self.l1:\n",
    "            (self.l1,) = self.ax1.plot(w_list[0], Drms_find[0])\n",
    "            (self.l2,) = self.ax2.plot(w_list[0], Arms_find[0])\n",
    "            self.ax1.set(xlabel=r\"$\\omega\\,[\\mathrm{rad}\\cdot\\mathrm{s}^{-1}]$\")\n",
    "            self.ax1.set(ylabel=r\"$q_{\\rm RMS}\\,[\\mathrm{m}]$\")\n",
    "            self.ax1.set(xlim=(0, 2.5))\n",
    "            self.ax1.set(ylim=(0, 2.6))\n",
    "            self.ax2.set(xlabel=r\"$\\omega\\,[\\mathrm{rad}\\cdot\\mathrm{s}^{-1}]$\")\n",
    "            self.ax2.set(\n",
    "                ylabel=r\"${\\ddot q}_{\\rm RMS}\\,[\\mathrm{m}\\cdot\\mathrm{s}^{-2}]$\"\n",
    "            )\n",
    "            self.ax2.set(xlim=(0, 2.5))\n",
    "            self.ax2.set(ylim=(0, 2.6))\n",
    "        else:\n",
    "            self.l1.set_data(w_list[0], Drms_find[0])\n",
    "            self.l2.set_data(w_list[0], Arms_find[0])\n",
    "        title_text = r\"$\\xi = {}\\,\\mathrm{{kg}}\\cdot\\mathrm{{s}}^{{-1}}\\,,\\,k_{{nl}} = {}\\,\\mathrm{{N}}\\cdot\\mathrm{{m}}^{{-3}}$\".format(\n",
    "            xi, knl\n",
    "        )\n",
    "        self.ax1.set(title=title_text)\n",
    "        self.ax2.set(title=title_text)\n",
    "        self.fig.canvas.draw()\n",
    "        self.fig.canvas.flush_events()\n"
   ]
  },
  {
   "cell_type": "markdown",
   "metadata": {},
   "source": [
    "#### Show parametric results\n"
   ]
  },
  {
   "cell_type": "code",
   "execution_count": null,
   "metadata": {},
   "outputs": [],
   "source": [
    "xi_slider = ipw.SelectionSlider(\n",
    "    options=xi_list,\n",
    "    value=xi_list[0],\n",
    "    description=r\"$\\xi$\",\n",
    "    disabled=False,\n",
    "    continuous_update=True,\n",
    "    orientation=\"horizontal\",\n",
    "    readout=True,\n",
    ")\n",
    "knl_slider = ipw.SelectionSlider(\n",
    "    options=knl_list,\n",
    "    value=knl_list[0],\n",
    "    description=r\"$k_{{nl}}$\",\n",
    "    disabled=False,\n",
    "    continuous_update=True,\n",
    "    orientation=\"horizontal\",\n",
    "    readout=True,\n",
    ")\n",
    "plot = plotting_full()\n",
    "#\n",
    "gui = ipw.interact(plot.update, data=ipw.fixed(data), xi=xi_slider, knl=knl_slider)\n"
   ]
  },
  {
   "cell_type": "markdown",
   "metadata": {},
   "source": [
    "#### Show results for some values of $k_{nl}$ and $\\xi =0.15\\,\\mathrm{kg}\\cdot s^{-1}$\n"
   ]
  },
  {
   "cell_type": "code",
   "execution_count": null,
   "metadata": {},
   "outputs": [],
   "source": [
    "xi_select = 0.15  # Select xi = 0.15 kg/s\n",
    "assert xi_select in xi_list, \"xi_select not in xi_list\"\n",
    "#\n",
    "Drms_find = [content[3] for content in data if content[0] == xi_select]\n",
    "Arms_find = [content[3] for content in data if content[0] == xi_select]\n",
    "w_list = [content[2] for content in data if content[0] == xi_select]\n",
    "#\n",
    "plotting(\n",
    "    w_list,\n",
    "    Drms_find,\n",
    "    Arms_find,\n",
    "    {\n",
    "        \"name\": f\"\\\\xi\",\n",
    "        \"value\": xi_select,\n",
    "        \"unit\": \"\\mathrm{{kg}}\\cdot\\mathrm{{s}}^{{-1}}\",\n",
    "    },\n",
    "    knl_list,\n",
    ")\n"
   ]
  },
  {
   "cell_type": "markdown",
   "metadata": {},
   "source": [
    "#### Show results for some values of $\\xi$ and $k_{nl}=2\\,\\mathrm{N}\\cdot m^{-3}$\n"
   ]
  },
  {
   "cell_type": "code",
   "execution_count": null,
   "metadata": {},
   "outputs": [],
   "source": [
    "knl_select = 2  # Select knl = 2 N/m3\n",
    "assert knl_select in knl_list, \"knl_select not in knl_list\"\n",
    "#\n",
    "Drms_find = [content[3] for content in data if content[1] == knl_select]\n",
    "Arms_find = [content[3] for content in data if content[1] == knl_select]\n",
    "w_list = [content[2] for content in data if content[1] == knl_select]\n",
    "#\n",
    "plotting(\n",
    "    w_list,\n",
    "    Drms_find,\n",
    "    Arms_find,\n",
    "    {\n",
    "        \"name\": \"k_{nl}\",\n",
    "        \"value\": knl_select,\n",
    "        \"unit\": \"\\mathrm{{N}}\\cdot\\mathrm{{m}}^{{-3}}\",\n",
    "    },\n",
    "    xi_list,\n",
    ")"
   ]
  }
 ],
 "metadata": {
  "kernelspec": {
   "display_name": "py311",
   "language": "python",
   "name": "python3"
  },
  "language_info": {
   "codemirror_mode": {
    "name": "ipython",
    "version": 3
   },
   "file_extension": ".py",
   "mimetype": "text/x-python",
   "name": "python",
   "nbconvert_exporter": "python",
   "pygments_lexer": "ipython3",
   "version": "3.11.11"
  }
 },
 "nbformat": 4,
 "nbformat_minor": 4
}
