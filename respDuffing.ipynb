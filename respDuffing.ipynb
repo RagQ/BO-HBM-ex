{
 "cells": [
  {
   "cell_type": "markdown",
   "metadata": {},
   "source": [
    "# Main execution file \n",
    "  - provided in BO-HBM-ex \n",
    "  - Author: Quentin Ragueneau \n",
    "  - url: http://github.com/RagQ/BO-HBM-ex.git \n",
    "  - License: MIT "
   ]
  },
  {
   "cell_type": "markdown",
   "metadata": {},
   "source": [
    "# Information \n",
    " This Python file provide frequency response of Duffing oscillator fof differents set of parameters "
   ]
  },
  {
   "cell_type": "code",
   "execution_count": 1,
   "metadata": {},
   "outputs": [],
   "source": [
    "import fobjDuffing as fobj\n",
    "import matplotlib.pyplot as plt\n",
    "import numpy\n",
    "import os"
   ]
  },
  {
   "cell_type": "code",
   "execution_count": 2,
   "metadata": {},
   "outputs": [],
   "source": [
    "plt.rcParams[\"text.usetex\"] = True"
   ]
  },
  {
   "cell_type": "code",
   "execution_count": 3,
   "metadata": {},
   "outputs": [],
   "source": [
    "ResName = \"ParamDuffing\"\n",
    "knl_list = numpy.linspace(0.25, 2, 8)\n",
    "xi_list = numpy.array([0.15, 0.3, 0.5, 1.0])"
   ]
  },
  {
   "cell_type": "code",
   "execution_count": 4,
   "metadata": {},
   "outputs": [],
   "source": [
    "if not os.path.exists(ResName):\n",
    "    os.mkdir(ResName)"
   ]
  },
  {
   "cell_type": "code",
   "execution_count": 5,
   "metadata": {},
   "outputs": [],
   "source": [
    "w_list = []\n",
    "Drms_list = []\n",
    "Arms_list = []\n",
    "prm_list = []"
   ]
  },
  {
   "cell_type": "code",
   "execution_count": 6,
   "metadata": {},
   "outputs": [
    {
     "name": "stdout",
     "output_type": "stream",
     "text": [
      "=== xi = 0.15 - knl = 0.25 ===\n",
      "=== xi = 0.15 - knl = 0.5 ===\n",
      "=== xi = 0.15 - knl = 0.75 ===\n",
      "=== xi = 0.15 - knl = 1.0 ===\n",
      "=== xi = 0.15 - knl = 1.25 ===\n",
      "=== xi = 0.15 - knl = 1.5 ===\n",
      "=== xi = 0.15 - knl = 1.75 ===\n",
      "=== xi = 0.15 - knl = 2.0 ===\n",
      "=== xi = 0.3 - knl = 0.25 ===\n",
      "=== xi = 0.3 - knl = 0.5 ===\n",
      "=== xi = 0.3 - knl = 0.75 ===\n",
      "=== xi = 0.3 - knl = 1.0 ===\n",
      "=== xi = 0.3 - knl = 1.25 ===\n",
      "=== xi = 0.3 - knl = 1.5 ===\n",
      "=== xi = 0.3 - knl = 1.75 ===\n",
      "=== xi = 0.3 - knl = 2.0 ===\n",
      "=== xi = 0.5 - knl = 0.25 ===\n",
      "=== xi = 0.5 - knl = 0.5 ===\n",
      "=== xi = 0.5 - knl = 0.75 ===\n",
      "=== xi = 0.5 - knl = 1.0 ===\n",
      "=== xi = 0.5 - knl = 1.25 ===\n",
      "=== xi = 0.5 - knl = 1.5 ===\n",
      "=== xi = 0.5 - knl = 1.75 ===\n",
      "=== xi = 0.5 - knl = 2.0 ===\n",
      "=== xi = 1.0 - knl = 0.25 ===\n",
      "=== xi = 1.0 - knl = 0.5 ===\n",
      "=== xi = 1.0 - knl = 0.75 ===\n",
      "=== xi = 1.0 - knl = 1.0 ===\n",
      "=== xi = 1.0 - knl = 1.25 ===\n",
      "=== xi = 1.0 - knl = 1.5 ===\n",
      "=== xi = 1.0 - knl = 1.75 ===\n",
      "=== xi = 1.0 - knl = 2.0 ===\n"
     ]
    }
   ],
   "source": [
    "for xi in xi_list:\n",
    "    plt.figure(0)\n",
    "    plt.figure(1)\n",
    "    for knl in knl_list:\n",
    "        print(\"=== xi = {} - knl = {} ===\".format(xi, knl))\n",
    "        w, Drms, Arms = fobj.solveDuffing([xi, knl])\n",
    "        w_list.append(w)\n",
    "        Drms_list.append(Drms)\n",
    "        Arms_list.append(Arms)\n",
    "        prm_list.append([xi, knl])\n",
    "        plt.figure(0)\n",
    "        plt.plot(w, Drms, label=f\"${knl}$\")\n",
    "        plt.figure(1)\n",
    "        plt.plot(w, Arms, label=f\"${knl}$\")\n",
    "    plt.figure(0)\n",
    "    plt.xlabel(r\"$\\omega\\,[\\mathrm{rad}\\cdot\\mathrm{s}^{-1}]$\")\n",
    "    plt.ylabel(r\"$q_{\\rm RMS}\\,[\\mathrm{m}]$\")\n",
    "    plt.xlim(0, 2.5)\n",
    "    plt.ylim(0, 2.6)\n",
    "    plt.legend(loc=\"upper left\",title=f\"$k_{{nl}}\\,[\\mathrm{{N}}\\cdot\\mathrm{{m}}^{{-3}}]$\")\n",
    "    plt.savefig(os.path.join(ResName, \"Drms_xi{}.pdf\".format(int(100 * xi))))\n",
    "    plt.close()\n",
    "    plt.figure(1)\n",
    "    plt.xlabel(r\"$\\omega\\,[\\mathrm{rad}\\cdot\\mathrm{s}^{-1}]$\")\n",
    "    plt.ylabel(r\"${\\ddot q}_{\\rm RMS}\\,[\\mathrm{m}\\cdot\\mathrm{s}^{-2}]$\")\n",
    "    plt.xlim(0, 2.5)\n",
    "    plt.ylim(0, 2.6)\n",
    "    plt.legend(loc=\"upper left\",title=f\"$k_{{nl}}\\,[\\mathrm{{N}}\\cdot\\mathrm{{m}}^{{-3}}]$\")\n",
    "    plt.savefig(os.path.join(ResName, \"Arms_xi{}.pdf\".format(int(100 * xi))))\n",
    "    plt.close()"
   ]
  },
  {
   "cell_type": "code",
   "execution_count": null,
   "metadata": {},
   "outputs": [],
   "source": []
  }
 ],
 "metadata": {
  "kernelspec": {
   "display_name": "py311",
   "language": "python",
   "name": "python3"
  },
  "language_info": {
   "codemirror_mode": {
    "name": "ipython",
    "version": 3
   },
   "file_extension": ".py",
   "mimetype": "text/x-python",
   "name": "python",
   "nbconvert_exporter": "python",
   "pygments_lexer": "ipython3",
   "version": "3.11.11"
  }
 },
 "nbformat": 4,
 "nbformat_minor": 2
}
